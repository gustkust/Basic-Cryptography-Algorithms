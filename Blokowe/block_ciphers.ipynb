{
 "cells": [
  {
   "cell_type": "code",
   "execution_count": 1,
   "id": "ac26db67",
   "metadata": {},
   "outputs": [],
   "source": [
    "from Crypto.Cipher import AES\n",
    "from os import urandom\n",
    "import time\n",
    "from random import randint\n",
    "import matplotlib\n",
    "import matplotlib.pyplot as plt\n",
    "import numpy as np"
   ]
  },
  {
   "cell_type": "code",
   "execution_count": 2,
   "id": "58b46dba",
   "metadata": {},
   "outputs": [],
   "source": [
    "en_key1 = urandom(32)\n",
    "en_key2 = urandom(16)\n",
    "names = [\"512KB\", \"1MB\", \"5MB\"]\n",
    "data_sets = []\n",
    "for name in names:\n",
    "    with open(name, \"rb\") as f:\n",
    "        data_sets.append(f.read())"
   ]
  },
  {
   "cell_type": "markdown",
   "id": "db55a4c8",
   "metadata": {},
   "source": [
    "# MIERZENIE CZASÓW"
   ]
  },
  {
   "cell_type": "markdown",
   "id": "20cdebe8",
   "metadata": {},
   "source": [
    "# CBC"
   ]
  },
  {
   "cell_type": "code",
   "execution_count": 3,
   "id": "f56a72da",
   "metadata": {},
   "outputs": [],
   "source": [
    "obj = AES.new(en_key1, AES.MODE_CBC, en_key2)"
   ]
  },
  {
   "cell_type": "code",
   "execution_count": 4,
   "id": "f68c7d2b",
   "metadata": {},
   "outputs": [
    {
     "name": "stdout",
     "output_type": "stream",
     "text": [
      "0.004472970962524414\n",
      "0.009296894073486328\n",
      "0.0470430850982666\n"
     ]
    }
   ],
   "source": [
    "en_cbc = []\n",
    "ciphers = []\n",
    "for data in data_sets:\n",
    "    start = time.time()\n",
    "    ciphertext = obj.encrypt(data)\n",
    "    end = time.time()\n",
    "    print(end - start)\n",
    "    en_cbc.append(end - start)\n",
    "    ciphers.append(ciphertext)"
   ]
  },
  {
   "cell_type": "code",
   "execution_count": 5,
   "id": "5bfb1888",
   "metadata": {},
   "outputs": [],
   "source": [
    "obj2 = AES.new(en_key1, AES.MODE_CBC, en_key2)"
   ]
  },
  {
   "cell_type": "code",
   "execution_count": 6,
   "id": "30c4673c",
   "metadata": {},
   "outputs": [
    {
     "name": "stdout",
     "output_type": "stream",
     "text": [
      "0.004181623458862305\n",
      "0.009319305419921875\n",
      "0.05040884017944336\n"
     ]
    }
   ],
   "source": [
    "de_cbc = []\n",
    "for cipher in ciphers:\n",
    "    start = time.time()\n",
    "    decrypted = obj2.decrypt(cipher)\n",
    "    end = time.time()\n",
    "    print(end - start)\n",
    "    de_cbc.append(end - start)"
   ]
  },
  {
   "cell_type": "markdown",
   "id": "a2cee2ea",
   "metadata": {},
   "source": [
    "# CTR"
   ]
  },
  {
   "cell_type": "code",
   "execution_count": 7,
   "id": "22d58bcf",
   "metadata": {},
   "outputs": [],
   "source": [
    "secret = urandom(16)\n",
    "obj = AES.new(en_key1, AES.MODE_CTR, counter=lambda: secret)"
   ]
  },
  {
   "cell_type": "code",
   "execution_count": 8,
   "id": "200ba2bf",
   "metadata": {},
   "outputs": [
    {
     "name": "stdout",
     "output_type": "stream",
     "text": [
      "0.013115406036376953\n",
      "0.025293588638305664\n",
      "0.1346607208251953\n"
     ]
    }
   ],
   "source": [
    "en_ctr = []\n",
    "ciphers = []\n",
    "for data in data_sets:\n",
    "    start = time.time()\n",
    "    ciphertext = obj.encrypt(data)\n",
    "    end = time.time()\n",
    "    print(end - start)\n",
    "    en_ctr.append(end - start)\n",
    "    ciphers.append(ciphertext)"
   ]
  },
  {
   "cell_type": "code",
   "execution_count": 9,
   "id": "8e596662",
   "metadata": {},
   "outputs": [],
   "source": [
    "obj2 = AES.new(en_key1, AES.MODE_CTR, counter=lambda: secret)"
   ]
  },
  {
   "cell_type": "code",
   "execution_count": 10,
   "id": "b1f8063e",
   "metadata": {},
   "outputs": [
    {
     "name": "stdout",
     "output_type": "stream",
     "text": [
      "0.01793646812438965\n",
      "0.023694753646850586\n",
      "0.10984230041503906\n"
     ]
    }
   ],
   "source": [
    "de_ctr = []\n",
    "for cipher in ciphers:\n",
    "    start = time.time()\n",
    "    decrypted = obj2.decrypt(cipher)\n",
    "    end = time.time()\n",
    "    print(end - start)\n",
    "    de_ctr.append(end - start)"
   ]
  },
  {
   "cell_type": "markdown",
   "id": "d13a4ae8",
   "metadata": {},
   "source": [
    "# CFB"
   ]
  },
  {
   "cell_type": "code",
   "execution_count": 11,
   "id": "08a0d649",
   "metadata": {},
   "outputs": [],
   "source": [
    "obj = AES.new(en_key1, AES.MODE_CFB, en_key2)"
   ]
  },
  {
   "cell_type": "code",
   "execution_count": 12,
   "id": "aaf91322",
   "metadata": {},
   "outputs": [
    {
     "name": "stdout",
     "output_type": "stream",
     "text": [
      "0.06387066841125488\n",
      "0.11771893501281738\n",
      "0.573664665222168\n"
     ]
    }
   ],
   "source": [
    "en_cfb = []\n",
    "ciphers = []\n",
    "for data in data_sets:\n",
    "    start = time.time()\n",
    "    ciphertext = obj.encrypt(data)\n",
    "    end = time.time()\n",
    "    print(end - start)\n",
    "    en_cfb.append(end - start)\n",
    "    ciphers.append(ciphertext)"
   ]
  },
  {
   "cell_type": "code",
   "execution_count": 13,
   "id": "cb7da60d",
   "metadata": {},
   "outputs": [],
   "source": [
    "obj2 = AES.new(en_key1, AES.MODE_CFB, en_key2)"
   ]
  },
  {
   "cell_type": "code",
   "execution_count": 14,
   "id": "57de9173",
   "metadata": {},
   "outputs": [
    {
     "name": "stdout",
     "output_type": "stream",
     "text": [
      "0.06591176986694336\n",
      "0.11753392219543457\n",
      "0.5771627426147461\n"
     ]
    }
   ],
   "source": [
    "de_cfb = []\n",
    "for cipher in ciphers:\n",
    "    start = time.time()\n",
    "    decrypted = obj2.decrypt(cipher)\n",
    "    end = time.time()\n",
    "    print(end - start)\n",
    "    de_cfb.append(end - start)"
   ]
  },
  {
   "cell_type": "markdown",
   "id": "680e4d15",
   "metadata": {},
   "source": [
    "# OFB"
   ]
  },
  {
   "cell_type": "code",
   "execution_count": 15,
   "id": "4b68dc96",
   "metadata": {},
   "outputs": [],
   "source": [
    "obj = AES.new(en_key1, AES.MODE_OFB, en_key2)"
   ]
  },
  {
   "cell_type": "code",
   "execution_count": 16,
   "id": "d34f08b9",
   "metadata": {},
   "outputs": [
    {
     "name": "stdout",
     "output_type": "stream",
     "text": [
      "0.0051116943359375\n",
      "0.009070158004760742\n",
      "0.03991556167602539\n"
     ]
    }
   ],
   "source": [
    "en_ofb = []\n",
    "ciphers = []\n",
    "for data in data_sets:\n",
    "    start = time.time()\n",
    "    ciphertext = obj.encrypt(data)\n",
    "    end = time.time()\n",
    "    print(end - start)\n",
    "    en_ofb.append(end - start)\n",
    "    ciphers.append(ciphertext)"
   ]
  },
  {
   "cell_type": "code",
   "execution_count": 17,
   "id": "f1f8921c",
   "metadata": {},
   "outputs": [],
   "source": [
    "obj2 = AES.new(en_key1, AES.MODE_OFB, en_key2)"
   ]
  },
  {
   "cell_type": "code",
   "execution_count": 18,
   "id": "7e543f3f",
   "metadata": {},
   "outputs": [
    {
     "name": "stdout",
     "output_type": "stream",
     "text": [
      "0.006143093109130859\n",
      "0.01024627685546875\n",
      "0.041881561279296875\n"
     ]
    }
   ],
   "source": [
    "de_ofb = []\n",
    "for cipher in ciphers:\n",
    "    start = time.time()\n",
    "    decrypted = obj2.decrypt(cipher)\n",
    "    end = time.time()\n",
    "    print(end - start)\n",
    "    de_ofb.append(end - start)"
   ]
  },
  {
   "cell_type": "markdown",
   "id": "03c76645",
   "metadata": {},
   "source": [
    "# ECB"
   ]
  },
  {
   "cell_type": "code",
   "execution_count": 19,
   "id": "f5f2c6cd",
   "metadata": {},
   "outputs": [],
   "source": [
    "obj = AES.new(en_key1, AES.MODE_ECB, en_key2)"
   ]
  },
  {
   "cell_type": "code",
   "execution_count": 20,
   "id": "14a8d695",
   "metadata": {},
   "outputs": [
    {
     "name": "stdout",
     "output_type": "stream",
     "text": [
      "0.0051441192626953125\n",
      "0.008077144622802734\n",
      "0.04146838188171387\n"
     ]
    }
   ],
   "source": [
    "en_ecb = []\n",
    "ciphers = []\n",
    "for data in data_sets:\n",
    "    start = time.time()\n",
    "    ciphertext = obj.encrypt(data)\n",
    "    end = time.time()\n",
    "    print(end - start)\n",
    "    en_ecb.append(end - start)\n",
    "    ciphers.append(ciphertext)"
   ]
  },
  {
   "cell_type": "code",
   "execution_count": 21,
   "id": "b8f60909",
   "metadata": {},
   "outputs": [],
   "source": [
    "obj2 = AES.new(en_key1, AES.MODE_ECB, en_key2)"
   ]
  },
  {
   "cell_type": "code",
   "execution_count": 22,
   "id": "7a9919dd",
   "metadata": {},
   "outputs": [
    {
     "name": "stdout",
     "output_type": "stream",
     "text": [
      "0.003824472427368164\n",
      "0.008063316345214844\n",
      "0.036843299865722656\n"
     ]
    }
   ],
   "source": [
    "de_ecb = []\n",
    "for cipher in ciphers:\n",
    "    start = time.time()\n",
    "    decrypted = obj2.decrypt(cipher)\n",
    "    end = time.time()\n",
    "    print(end - start)\n",
    "    de_ecb.append(end - start)"
   ]
  },
  {
   "cell_type": "markdown",
   "id": "ac06dc0a",
   "metadata": {},
   "source": [
    "# WYNIKI"
   ]
  },
  {
   "cell_type": "code",
   "execution_count": 23,
   "id": "d6967044",
   "metadata": {},
   "outputs": [
    {
     "data": {
      "image/png": "[encoded data removed]",
      "text/plain": [
       "<Figure size 432x288 with 1 Axes>"
      ]
     },
     "metadata": {
      "needs_background": "light"
     },
     "output_type": "display_data"
    }
   ],
   "source": [
    "labels = [\"512KB\", \"1MB\", \"5MB\"]\n",
    "\n",
    "x = np.arange(len(labels))  # the label locations\n",
    "width = 0.1  # the width of the bars\n",
    "\n",
    "fig, ax = plt.subplots()\n",
    "rects1 = ax.bar(x - 3 * width + width, en_cbc, width, label='CBC')\n",
    "rects2 = ax.bar(x - 2 * width + width, en_ctr, width, label='CTR')\n",
    "rects3 = ax.bar(x - 1 * width + width, en_cfb, width, label='CFB')\n",
    "rects4 = ax.bar(x + width, en_ofb, width, label='OFB')\n",
    "rects5 = ax.bar(x + 1 * width + width, en_ecb, width, label='ECB')\n",
    "\n",
    "# Add some text for labels, title and custom x-axis tick labels, etc.\n",
    "ax.set_ylabel('Time [s]')\n",
    "ax.set_xlabel('File size')\n",
    "ax.set_title('Encryption times')\n",
    "ax.set_xticks(x)\n",
    "ax.set_xticklabels(labels)\n",
    "ax.legend()\n",
    "\n",
    "\n",
    "fig.tight_layout()\n",
    "\n",
    "plt.show()"
   ]
  },
  {
   "cell_type": "code",
   "execution_count": 24,
   "id": "a2cd2b02",
   "metadata": {},
   "outputs": [
    {
     "data": {
      "image/png": "[encoded data removed]",
      "text/plain": [
       "<Figure size 432x288 with 1 Axes>"
      ]
     },
     "metadata": {
      "needs_background": "light"
     },
     "output_type": "display_data"
    }
   ],
   "source": [
    "labels = [\"512KB\", \"1MB\", \"5MB\"]\n",
    "\n",
    "x = np.arange(len(labels))  # the label locations\n",
    "width = 0.1  # the width of the bars\n",
    "\n",
    "fig, ax = plt.subplots()\n",
    "rects1 = ax.bar(x - 3 * width + width, de_cbc, width, label='CBC')\n",
    "rects2 = ax.bar(x - 2 * width + width, de_ctr, width, label='CTR')\n",
    "rects3 = ax.bar(x - 1 * width + width, de_cfb, width, label='CFB')\n",
    "rects4 = ax.bar(x + width, de_ofb, width, label='OFB')\n",
    "rects5 = ax.bar(x + 1 * width + width, de_ecb, width, label='ECB')\n",
    "\n",
    "# Add some text for labels, title and custom x-axis tick labels, etc.\n",
    "ax.set_ylabel('Time [s]')\n",
    "ax.set_xlabel('File size')\n",
    "ax.set_title('Decryption times')\n",
    "ax.set_xticks(x)\n",
    "ax.set_xticklabels(labels)\n",
    "ax.legend()\n",
    "\n",
    "\n",
    "fig.tight_layout()\n",
    "\n",
    "plt.show()"
   ]
  },
  {
   "cell_type": "markdown",
   "id": "45c96715",
   "metadata": {},
   "source": [
    "# PROPAGACJA BŁĘDÓW"
   ]
  },
  {
   "cell_type": "code",
   "execution_count": 25,
   "id": "97fab768",
   "metadata": {},
   "outputs": [],
   "source": [
    "switch_numbers = [1, 10, 50]\n",
    "data = data_sets[1]\n",
    "data_arr = bytearray(data)"
   ]
  },
  {
   "cell_type": "markdown",
   "id": "2729d7dd",
   "metadata": {},
   "source": [
    "# CBC"
   ]
  },
  {
   "cell_type": "code",
   "execution_count": 26,
   "id": "50e55ba3",
   "metadata": {},
   "outputs": [],
   "source": [
    "obj = AES.new(en_key1, AES.MODE_CBC, en_key2)"
   ]
  },
  {
   "cell_type": "code",
   "execution_count": 27,
   "id": "ae468caf",
   "metadata": {},
   "outputs": [
    {
     "name": "stdout",
     "output_type": "stream",
     "text": [
      "0.008748292922973633\n"
     ]
    }
   ],
   "source": [
    "cbc_mis = []\n",
    "start = time.time()\n",
    "cipher = obj.encrypt(data)\n",
    "end = time.time()\n",
    "print(end - start)"
   ]
  },
  {
   "cell_type": "code",
   "execution_count": 28,
   "id": "418f26d2",
   "metadata": {},
   "outputs": [],
   "source": [
    "cipher_arr = bytearray(cipher)\n",
    "messed_cipher = cipher_arr\n",
    "for i in range(switch_numbers[0]):\n",
    "    messed_cipher[randint(0, len(messed_cipher) - 1)] = cipher_arr[randint(0, len(messed_cipher) - 1)]\n",
    "messed_cipher = bytes(messed_cipher)"
   ]
  },
  {
   "cell_type": "code",
   "execution_count": 29,
   "id": "14458856",
   "metadata": {},
   "outputs": [],
   "source": [
    "obj2 = AES.new(en_key1, AES.MODE_CBC, en_key2)"
   ]
  },
  {
   "cell_type": "code",
   "execution_count": 30,
   "id": "af9bf1a6",
   "metadata": {},
   "outputs": [
    {
     "name": "stdout",
     "output_type": "stream",
     "text": [
      "0.01652383804321289\n"
     ]
    }
   ],
   "source": [
    "start = time.time()\n",
    "decrypted = obj2.decrypt(messed_cipher)\n",
    "end = time.time()\n",
    "print(end - start)\n",
    "decrypted = bytearray(decrypted)"
   ]
  },
  {
   "cell_type": "code",
   "execution_count": 31,
   "id": "34426244",
   "metadata": {},
   "outputs": [],
   "source": [
    "mistakes = 0\n",
    "for i in range(len(decrypted)):\n",
    "    if decrypted[i] != data_arr[i]:\n",
    "        mistakes += 1\n",
    "\n",
    "cbc_mis.append(mistakes)"
   ]
  },
  {
   "cell_type": "code",
   "execution_count": 32,
   "id": "d3ae4e05",
   "metadata": {},
   "outputs": [
    {
     "name": "stdout",
     "output_type": "stream",
     "text": [
      "0.009100198745727539\n"
     ]
    }
   ],
   "source": [
    "cipher_arr = bytearray(cipher)\n",
    "messed_cipher = cipher_arr\n",
    "for i in range(switch_numbers[1]):\n",
    "    messed_cipher[randint(0, len(messed_cipher) - 1)] = cipher_arr[randint(0, len(messed_cipher) - 1)]\n",
    "messed_cipher = bytes(messed_cipher)\n",
    "obj2 = AES.new(en_key1, AES.MODE_CBC, en_key2)\n",
    "start = time.time()\n",
    "decrypted = obj2.decrypt(messed_cipher)\n",
    "end = time.time()\n",
    "print(end - start)\n",
    "decrypted = bytearray(decrypted)\n",
    "mistakes = 0\n",
    "for i in range(len(decrypted)):\n",
    "    if decrypted[i] != data_arr[i]:\n",
    "        mistakes += 1\n",
    "\n",
    "cbc_mis.append(mistakes)"
   ]
  },
  {
   "cell_type": "code",
   "execution_count": 33,
   "id": "849354e5",
   "metadata": {},
   "outputs": [
    {
     "name": "stdout",
     "output_type": "stream",
     "text": [
      "0.009469270706176758\n"
     ]
    }
   ],
   "source": [
    "cipher_arr = bytearray(cipher)\n",
    "messed_cipher = cipher_arr\n",
    "for i in range(switch_numbers[2]):\n",
    "    messed_cipher[randint(0, len(messed_cipher) - 1)] = cipher_arr[randint(0, len(messed_cipher) - 1)]\n",
    "messed_cipher = bytes(messed_cipher)\n",
    "obj2 = AES.new(en_key1, AES.MODE_CBC, en_key2)\n",
    "start = time.time()\n",
    "decrypted = obj2.decrypt(messed_cipher)\n",
    "end = time.time()\n",
    "print(end - start)\n",
    "decrypted = bytearray(decrypted)\n",
    "mistakes = 0\n",
    "for i in range(len(decrypted)):\n",
    "    if decrypted[i] != data_arr[i]:\n",
    "        mistakes += 1\n",
    "\n",
    "cbc_mis.append(mistakes)"
   ]
  },
  {
   "cell_type": "markdown",
   "id": "8f69a59c",
   "metadata": {},
   "source": [
    "# CTR"
   ]
  },
  {
   "cell_type": "code",
   "execution_count": 34,
   "id": "794f5953",
   "metadata": {},
   "outputs": [],
   "source": [
    "secret = urandom(16)\n",
    "obj = AES.new(en_key1, AES.MODE_CTR, counter=lambda: secret)"
   ]
  },
  {
   "cell_type": "code",
   "execution_count": 35,
   "id": "6bbd9aa5",
   "metadata": {},
   "outputs": [
    {
     "name": "stdout",
     "output_type": "stream",
     "text": [
      "0.022356271743774414\n"
     ]
    }
   ],
   "source": [
    "ctr_mis = []\n",
    "start = time.time()\n",
    "cipher = obj.encrypt(data)\n",
    "end = time.time()\n",
    "print(end - start)"
   ]
  },
  {
   "cell_type": "code",
   "execution_count": 36,
   "id": "d7440e44",
   "metadata": {},
   "outputs": [],
   "source": [
    "cipher_arr = bytearray(cipher)\n",
    "messed_cipher = cipher_arr\n",
    "for i in range(switch_numbers[0]):\n",
    "    messed_cipher[randint(0, len(messed_cipher) - 1)] = cipher_arr[randint(0, len(messed_cipher) - 1)]\n",
    "messed_cipher = bytes(messed_cipher)"
   ]
  },
  {
   "cell_type": "code",
   "execution_count": 37,
   "id": "648a94ee",
   "metadata": {},
   "outputs": [],
   "source": [
    "obj2 = AES.new(en_key1, AES.MODE_CTR, counter=lambda: secret)"
   ]
  },
  {
   "cell_type": "code",
   "execution_count": 38,
   "id": "8f917829",
   "metadata": {},
   "outputs": [
    {
     "name": "stdout",
     "output_type": "stream",
     "text": [
      "0.026102066040039062\n"
     ]
    }
   ],
   "source": [
    "start = time.time()\n",
    "decrypted = obj2.decrypt(messed_cipher)\n",
    "end = time.time()\n",
    "print(end - start)\n",
    "decrypted = bytearray(decrypted)"
   ]
  },
  {
   "cell_type": "code",
   "execution_count": 39,
   "id": "71d1d173",
   "metadata": {},
   "outputs": [],
   "source": [
    "mistakes = 0\n",
    "for i in range(len(decrypted)):\n",
    "    if decrypted[i] != data_arr[i]:\n",
    "        mistakes += 1\n",
    "ctr_mis.append(mistakes)"
   ]
  },
  {
   "cell_type": "code",
   "execution_count": 40,
   "id": "408a87d9",
   "metadata": {},
   "outputs": [
    {
     "name": "stdout",
     "output_type": "stream",
     "text": [
      "0.031014680862426758\n"
     ]
    }
   ],
   "source": [
    "cipher_arr = bytearray(cipher)\n",
    "messed_cipher = cipher_arr\n",
    "for i in range(switch_numbers[1]):\n",
    "    messed_cipher[randint(0, len(messed_cipher) - 1)] = cipher_arr[randint(0, len(messed_cipher) - 1)]\n",
    "messed_cipher = bytes(messed_cipher)\n",
    "obj2 = AES.new(en_key1, AES.MODE_CTR, counter=lambda: secret)\n",
    "start = time.time()\n",
    "decrypted = obj2.decrypt(messed_cipher)\n",
    "end = time.time()\n",
    "print(end - start)\n",
    "decrypted = bytearray(decrypted)\n",
    "mistakes = 0\n",
    "for i in range(len(decrypted)):\n",
    "    if decrypted[i] != data_arr[i]:\n",
    "        mistakes += 1\n",
    "ctr_mis.append(mistakes)"
   ]
  },
  {
   "cell_type": "code",
   "execution_count": 41,
   "id": "079ce6f2",
   "metadata": {},
   "outputs": [
    {
     "name": "stdout",
     "output_type": "stream",
     "text": [
      "0.02427220344543457\n"
     ]
    }
   ],
   "source": [
    "cipher_arr = bytearray(cipher)\n",
    "messed_cipher = cipher_arr\n",
    "for i in range(switch_numbers[2]):\n",
    "    messed_cipher[randint(0, len(messed_cipher) - 1)] = cipher_arr[randint(0, len(messed_cipher) - 1)]\n",
    "messed_cipher = bytes(messed_cipher)\n",
    "obj2 = AES.new(en_key1, AES.MODE_CTR, counter=lambda: secret)\n",
    "start = time.time()\n",
    "decrypted = obj2.decrypt(messed_cipher)\n",
    "end = time.time()\n",
    "print(end - start)\n",
    "decrypted = bytearray(decrypted)\n",
    "mistakes = 0\n",
    "for i in range(len(decrypted)):\n",
    "    if decrypted[i] != data_arr[i]:\n",
    "        mistakes += 1\n",
    "ctr_mis.append(mistakes)"
   ]
  },
  {
   "cell_type": "markdown",
   "id": "245fbb39",
   "metadata": {},
   "source": [
    "# CFB"
   ]
  },
  {
   "cell_type": "code",
   "execution_count": 42,
   "id": "a2accb1c",
   "metadata": {},
   "outputs": [],
   "source": [
    "obj = AES.new(en_key1, AES.MODE_CFB, en_key2)"
   ]
  },
  {
   "cell_type": "code",
   "execution_count": 43,
   "id": "7648325b",
   "metadata": {},
   "outputs": [
    {
     "name": "stdout",
     "output_type": "stream",
     "text": [
      "0.1186826229095459\n"
     ]
    }
   ],
   "source": [
    "cfb_mis = []\n",
    "start = time.time()\n",
    "cipher = obj.encrypt(data)\n",
    "end = time.time()\n",
    "print(end - start)"
   ]
  },
  {
   "cell_type": "code",
   "execution_count": 44,
   "id": "91dfa52c",
   "metadata": {},
   "outputs": [],
   "source": [
    "cipher_arr = bytearray(cipher)\n",
    "messed_cipher = cipher_arr\n",
    "for i in range(switch_numbers[0]):\n",
    "    messed_cipher[randint(0, len(messed_cipher) - 1)] = cipher_arr[randint(0, len(messed_cipher) - 1)]\n",
    "messed_cipher = bytes(messed_cipher)"
   ]
  },
  {
   "cell_type": "code",
   "execution_count": 45,
   "id": "42a54b1e",
   "metadata": {},
   "outputs": [],
   "source": [
    "obj2 = AES.new(en_key1, AES.MODE_CFB, en_key2)"
   ]
  },
  {
   "cell_type": "code",
   "execution_count": 46,
   "id": "8ba21aad",
   "metadata": {},
   "outputs": [
    {
     "name": "stdout",
     "output_type": "stream",
     "text": [
      "0.11854696273803711\n"
     ]
    }
   ],
   "source": [
    "start = time.time()\n",
    "decrypted = obj2.decrypt(messed_cipher)\n",
    "end = time.time()\n",
    "print(end - start)\n",
    "decrypted = bytearray(decrypted)"
   ]
  },
  {
   "cell_type": "code",
   "execution_count": 47,
   "id": "c2b4de12",
   "metadata": {},
   "outputs": [],
   "source": [
    "mistakes = 0\n",
    "for i in range(len(decrypted)):\n",
    "    if decrypted[i] != data_arr[i]:\n",
    "        mistakes += 1\n",
    "cfb_mis.append(mistakes)"
   ]
  },
  {
   "cell_type": "code",
   "execution_count": 48,
   "id": "6eb3b2ae",
   "metadata": {},
   "outputs": [
    {
     "name": "stdout",
     "output_type": "stream",
     "text": [
      "0.1205434799194336\n"
     ]
    }
   ],
   "source": [
    "cipher_arr = bytearray(cipher)\n",
    "messed_cipher = cipher_arr\n",
    "for i in range(switch_numbers[1]):\n",
    "    messed_cipher[randint(0, len(messed_cipher) - 1)] = cipher_arr[randint(0, len(messed_cipher) - 1)]\n",
    "messed_cipher = bytes(messed_cipher)\n",
    "obj2 = AES.new(en_key1, AES.MODE_CFB, en_key2)\n",
    "start = time.time()\n",
    "decrypted = obj2.decrypt(messed_cipher)\n",
    "end = time.time()\n",
    "print(end - start)\n",
    "decrypted = bytearray(decrypted)\n",
    "mistakes = 0\n",
    "for i in range(len(decrypted)):\n",
    "    if decrypted[i] != data_arr[i]:\n",
    "        mistakes += 1\n",
    "cfb_mis.append(mistakes)"
   ]
  },
  {
   "cell_type": "code",
   "execution_count": 49,
   "id": "5d2f2f5e",
   "metadata": {},
   "outputs": [
    {
     "name": "stdout",
     "output_type": "stream",
     "text": [
      "0.1223134994506836\n"
     ]
    }
   ],
   "source": [
    "cipher_arr = bytearray(cipher)\n",
    "messed_cipher = cipher_arr\n",
    "for i in range(switch_numbers[2]):\n",
    "    messed_cipher[randint(0, len(messed_cipher) - 1)] = cipher_arr[randint(0, len(messed_cipher) - 1)]\n",
    "messed_cipher = bytes(messed_cipher)\n",
    "obj2 = AES.new(en_key1, AES.MODE_CFB, en_key2)\n",
    "start = time.time()\n",
    "decrypted = obj2.decrypt(messed_cipher)\n",
    "end = time.time()\n",
    "print(end - start)\n",
    "decrypted = bytearray(decrypted)\n",
    "mistakes = 0\n",
    "for i in range(len(decrypted)):\n",
    "    if decrypted[i] != data_arr[i]:\n",
    "        mistakes += 1\n",
    "cfb_mis.append(mistakes)"
   ]
  },
  {
   "cell_type": "markdown",
   "id": "9af9df8e",
   "metadata": {},
   "source": [
    "# OFB"
   ]
  },
  {
   "cell_type": "code",
   "execution_count": 50,
   "id": "4c320156",
   "metadata": {},
   "outputs": [],
   "source": [
    "obj = AES.new(en_key1, AES.MODE_OFB, en_key2)"
   ]
  },
  {
   "cell_type": "code",
   "execution_count": 51,
   "id": "f1681d49",
   "metadata": {},
   "outputs": [
    {
     "name": "stdout",
     "output_type": "stream",
     "text": [
      "0.01054239273071289\n"
     ]
    }
   ],
   "source": [
    "ofb_mis = []\n",
    "start = time.time()\n",
    "cipher = obj.encrypt(data)\n",
    "end = time.time()\n",
    "print(end - start)"
   ]
  },
  {
   "cell_type": "code",
   "execution_count": 52,
   "id": "5e753573",
   "metadata": {},
   "outputs": [],
   "source": [
    "cipher_arr = bytearray(cipher)\n",
    "messed_cipher = cipher_arr\n",
    "for i in range(switch_numbers[0]):\n",
    "    messed_cipher[randint(0, len(messed_cipher) - 1)] = cipher_arr[randint(0, len(messed_cipher) - 1)]\n",
    "messed_cipher = bytes(messed_cipher)"
   ]
  },
  {
   "cell_type": "code",
   "execution_count": 53,
   "id": "1716ac93",
   "metadata": {},
   "outputs": [],
   "source": [
    "obj2 = AES.new(en_key1, AES.MODE_OFB, en_key2)"
   ]
  },
  {
   "cell_type": "code",
   "execution_count": 54,
   "id": "4c615046",
   "metadata": {},
   "outputs": [
    {
     "name": "stdout",
     "output_type": "stream",
     "text": [
      "0.010909795761108398\n"
     ]
    }
   ],
   "source": [
    "start = time.time()\n",
    "decrypted = obj2.decrypt(messed_cipher)\n",
    "end = time.time()\n",
    "print(end - start)\n",
    "decrypted = bytearray(decrypted)"
   ]
  },
  {
   "cell_type": "code",
   "execution_count": 55,
   "id": "b57e45f2",
   "metadata": {},
   "outputs": [],
   "source": [
    "mistakes = 0\n",
    "for i in range(len(decrypted)):\n",
    "    if decrypted[i] != data_arr[i]:\n",
    "        mistakes += 1\n",
    "ofb_mis.append(mistakes)"
   ]
  },
  {
   "cell_type": "code",
   "execution_count": 56,
   "id": "130dc0f8",
   "metadata": {},
   "outputs": [
    {
     "name": "stdout",
     "output_type": "stream",
     "text": [
      "0.01237797737121582\n"
     ]
    }
   ],
   "source": [
    "cipher_arr = bytearray(cipher)\n",
    "messed_cipher = cipher_arr\n",
    "for i in range(switch_numbers[1]):\n",
    "    messed_cipher[randint(0, len(messed_cipher) - 1)] = cipher_arr[randint(0, len(messed_cipher) - 1)]\n",
    "messed_cipher = bytes(messed_cipher)\n",
    "obj2 = AES.new(en_key1, AES.MODE_OFB, en_key2)\n",
    "start = time.time()\n",
    "decrypted = obj2.decrypt(messed_cipher)\n",
    "end = time.time()\n",
    "print(end - start)\n",
    "decrypted = bytearray(decrypted)\n",
    "mistakes = 0\n",
    "for i in range(len(decrypted)):\n",
    "    if decrypted[i] != data_arr[i]:\n",
    "        mistakes += 1\n",
    "ofb_mis.append(mistakes)"
   ]
  },
  {
   "cell_type": "code",
   "execution_count": 57,
   "id": "c1863f1a",
   "metadata": {},
   "outputs": [
    {
     "name": "stdout",
     "output_type": "stream",
     "text": [
      "0.010712623596191406\n"
     ]
    }
   ],
   "source": [
    "cipher_arr = bytearray(cipher)\n",
    "messed_cipher = cipher_arr\n",
    "for i in range(switch_numbers[2]):\n",
    "    messed_cipher[randint(0, len(messed_cipher) - 1)] = cipher_arr[randint(0, len(messed_cipher) - 1)]\n",
    "messed_cipher = bytes(messed_cipher)\n",
    "obj2 = AES.new(en_key1, AES.MODE_OFB, en_key2)\n",
    "start = time.time()\n",
    "decrypted = obj2.decrypt(messed_cipher)\n",
    "end = time.time()\n",
    "print(end - start)\n",
    "decrypted = bytearray(decrypted)\n",
    "mistakes = 0\n",
    "for i in range(len(decrypted)):\n",
    "    if decrypted[i] != data_arr[i]:\n",
    "        mistakes += 1\n",
    "ofb_mis.append(mistakes)"
   ]
  },
  {
   "cell_type": "markdown",
   "id": "91cfc63f",
   "metadata": {},
   "source": [
    "# ECB"
   ]
  },
  {
   "cell_type": "code",
   "execution_count": 58,
   "id": "17527f85",
   "metadata": {},
   "outputs": [],
   "source": [
    "obj = AES.new(en_key1, AES.MODE_ECB, en_key2)"
   ]
  },
  {
   "cell_type": "code",
   "execution_count": 59,
   "id": "0c48f78e",
   "metadata": {},
   "outputs": [
    {
     "name": "stdout",
     "output_type": "stream",
     "text": [
      "0.00830078125\n"
     ]
    }
   ],
   "source": [
    "ecb_mis = []\n",
    "start = time.time()\n",
    "cipher = obj.encrypt(data)\n",
    "end = time.time()\n",
    "print(end - start)"
   ]
  },
  {
   "cell_type": "code",
   "execution_count": 60,
   "id": "92685a46",
   "metadata": {},
   "outputs": [],
   "source": [
    "cipher_arr = bytearray(cipher)\n",
    "messed_cipher = cipher_arr\n",
    "for i in range(switch_numbers[0]):\n",
    "    messed_cipher[randint(0, len(messed_cipher) - 1)] = cipher_arr[randint(0, len(messed_cipher) - 1)]\n",
    "messed_cipher = bytes(messed_cipher)"
   ]
  },
  {
   "cell_type": "code",
   "execution_count": 61,
   "id": "01190416",
   "metadata": {},
   "outputs": [],
   "source": [
    "obj2 = AES.new(en_key1, AES.MODE_ECB, en_key2)"
   ]
  },
  {
   "cell_type": "code",
   "execution_count": 62,
   "id": "83b2ff41",
   "metadata": {},
   "outputs": [
    {
     "name": "stdout",
     "output_type": "stream",
     "text": [
      "0.017068147659301758\n"
     ]
    }
   ],
   "source": [
    "start = time.time()\n",
    "decrypted = obj2.decrypt(messed_cipher)\n",
    "end = time.time()\n",
    "print(end - start)\n",
    "decrypted = bytearray(decrypted)"
   ]
  },
  {
   "cell_type": "code",
   "execution_count": 63,
   "id": "939db1c3",
   "metadata": {},
   "outputs": [],
   "source": [
    "mistakes = 0\n",
    "for i in range(len(decrypted)):\n",
    "    if decrypted[i] != data_arr[i]:\n",
    "        mistakes += 1\n",
    "ecb_mis.append(mistakes)"
   ]
  },
  {
   "cell_type": "code",
   "execution_count": 64,
   "id": "b0475b4e",
   "metadata": {},
   "outputs": [
    {
     "name": "stdout",
     "output_type": "stream",
     "text": [
      "0.009848356246948242\n"
     ]
    }
   ],
   "source": [
    "cipher_arr = bytearray(cipher)\n",
    "messed_cipher = cipher_arr\n",
    "for i in range(switch_numbers[1]):\n",
    "    messed_cipher[randint(0, len(messed_cipher) - 1)] = cipher_arr[randint(0, len(messed_cipher) - 1)]\n",
    "messed_cipher = bytes(messed_cipher)\n",
    "obj2 = AES.new(en_key1, AES.MODE_ECB, en_key2)\n",
    "start = time.time()\n",
    "decrypted = obj2.decrypt(messed_cipher)\n",
    "end = time.time()\n",
    "print(end - start)\n",
    "decrypted = bytearray(decrypted)\n",
    "mistakes = 0\n",
    "for i in range(len(decrypted)):\n",
    "    if decrypted[i] != data_arr[i]:\n",
    "        mistakes += 1\n",
    "ecb_mis.append(mistakes)"
   ]
  },
  {
   "cell_type": "code",
   "execution_count": 65,
   "id": "f357062c",
   "metadata": {},
   "outputs": [
    {
     "name": "stdout",
     "output_type": "stream",
     "text": [
      "0.009206295013427734\n"
     ]
    }
   ],
   "source": [
    "cipher_arr = bytearray(cipher)\n",
    "messed_cipher = cipher_arr\n",
    "for i in range(switch_numbers[2]):\n",
    "    messed_cipher[randint(0, len(messed_cipher) - 1)] = cipher_arr[randint(0, len(messed_cipher) - 1)]\n",
    "messed_cipher = bytes(messed_cipher)\n",
    "obj2 = AES.new(en_key1, AES.MODE_ECB, en_key2)\n",
    "start = time.time()\n",
    "decrypted = obj2.decrypt(messed_cipher)\n",
    "end = time.time()\n",
    "print(end - start)\n",
    "decrypted = bytearray(decrypted)\n",
    "mistakes = 0\n",
    "for i in range(len(decrypted)):\n",
    "    if decrypted[i] != data_arr[i]:\n",
    "        mistakes += 1\n",
    "ecb_mis.append(mistakes)"
   ]
  },
  {
   "cell_type": "markdown",
   "id": "96b0c405",
   "metadata": {},
   "source": [
    "# WYNIKI"
   ]
  },
  {
   "cell_type": "code",
   "execution_count": 69,
   "id": "ab349da5",
   "metadata": {},
   "outputs": [
    {
     "data": {
      "image/png": "[encoded data removed]",
      "text/plain": [
       "<Figure size 432x288 with 1 Axes>"
      ]
     },
     "metadata": {
      "needs_background": "light"
     },
     "output_type": "display_data"
    }
   ],
   "source": [
    "labels = [\"1\", \"10\", \"50\"]\n",
    "\n",
    "x = np.arange(len(labels))  # the label locations\n",
    "width = 0.1  # the width of the bars\n",
    "\n",
    "fig, ax = plt.subplots()\n",
    "rects1 = ax.bar(x - 3 * width + width, cbc_mis, width, label='CBC')\n",
    "rects2 = ax.bar(x - 2 * width + width, ctr_mis, width, label='CTR')\n",
    "rects3 = ax.bar(x - 1 * width + width, cfb_mis, width, label='CFB')\n",
    "rects4 = ax.bar(x + width, ofb_mis, width, label='OFB')\n",
    "rects5 = ax.bar(x + 1 * width + width, ecb_mis, width, label='ECB')\n",
    "\n",
    "# Add some text for labels, title and custom x-axis tick labels, etc.\n",
    "ax.set_ylabel('Number of mistakes after decryption')\n",
    "ax.set_xlabel('Number of corrupted bytes in encrypted 1MB file')\n",
    "ax.set_title('Error propagation')\n",
    "ax.set_xticks(x)\n",
    "ax.set_xticklabels(labels)\n",
    "ax.legend()\n",
    "\n",
    "\n",
    "fig.tight_layout()\n",
    "\n",
    "plt.show()"
   ]
  },
  {
   "cell_type": "code",
   "execution_count": 67,
   "id": "b04e89bc",
   "metadata": {},
   "outputs": [],
   "source": [
    "# cbc_mis, ctr_mis, cfb_mis, ofb_mis, ecb_mis"
   ]
  },
  {
   "cell_type": "code",
   "execution_count": null,
   "id": "3c5b49bc",
   "metadata": {},
   "outputs": [],
   "source": []
  }
 ],
 "metadata": {
  "kernelspec": {
   "display_name": "Python 3 (ipykernel)",
   "language": "python",
   "name": "python3"
  },
  "language_info": {
   "codemirror_mode": {
    "name": "ipython",
    "version": 3
   },
   "file_extension": ".py",
   "mimetype": "text/x-python",
   "name": "python",
   "nbconvert_exporter": "python",
   "pygments_lexer": "ipython3",
   "version": "3.8.10"
  }
 },
 "nbformat": 4,
 "nbformat_minor": 5
}
