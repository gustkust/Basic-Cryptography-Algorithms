{
 "cells": [
  {
   "cell_type": "code",
   "execution_count": 92,
   "id": "ac26db67",
   "metadata": {},
   "outputs": [],
   "source": [
    "import time\n",
    "import matplotlib\n",
    "import matplotlib.pyplot as plt\n",
    "import hashlib\n",
    "from random import choice"
   ]
  },
  {
   "cell_type": "code",
   "execution_count": 93,
   "id": "58b46dba",
   "metadata": {},
   "outputs": [
    {
     "name": "stdout",
     "output_type": "stream",
     "text": [
      "MD5:\n",
      "0274d4fbc8cebc67f6c19ce575452054\n",
      "SHA1:\n",
      "d901699746a46c299073ba4f29066ff1fb3fe78e\n",
      "SHA 224:\n",
      "717904a026738aa1f4eaa2f66a39dc95f67f5e3999898b075cfa7ae7\n",
      "SHA 256:\n",
      "9197ebca473f65a96a9cd84eaa4e39b6f68303d191bd4e869acb772e927958c9\n",
      "SHA 384:\n",
      "54f134fea018b561ca3cd27c1a78de58f60bc3ddca6e27d269257090fcaf6df0dc2086ed927e333b73642a95ddb858bc\n",
      "SHA 512:\n",
      "eefdb22a163d778d3e5d93f6b7e8b3f5d455959fe67c2ff41b3fd69c70f5380be846060bf231cb461bafb5b762ac0548006a816fd4655d8391b0b0f2de403bc3\n",
      "SHA3 224:\n",
      "7ff852ae49d97d3111ac6ceebdcd99b28e86356bc6285158ceaa1ead\n",
      "SHA3 256:\n",
      "6210c04ff40c0a6be4c819a7d426d7ea235a0cb0afeb25a41547aded0a8cad3b\n",
      "SHA3 384:\n",
      "a5299d36a80cfe0e4e74cf0620440daa9a22acf6e9646cc6b93140e42224a80b88dc8b6e873b62cfccb8a44f1a1d5c04\n",
      "SHA3 512:\n",
      "b0a2dc8a4eebe9e64cc372ff41c1d21c4e2dda90551f025a200803fe3c684d6e4a800183505076d4bf27e800ec32e15d3003a60df3ef63055f994fa0e5ddc4eb\n"
     ]
    }
   ],
   "source": [
    "message = b'asfasfasfasfas'\n",
    "\n",
    "times = []\n",
    "names = []\n",
    "lengths = []\n",
    "\n",
    "# md5\n",
    "start = time.time()\n",
    "result = hashlib.md5(message)\n",
    "end = time.time()\n",
    "times.append(end - start)\n",
    "print('MD5:')\n",
    "names.append('MD5')\n",
    "print(result.hexdigest())\n",
    "lengths.append(len(result.hexdigest()))\n",
    "\n",
    "# sha1\n",
    "start = time.time()\n",
    "result = hashlib.sha1(message)\n",
    "end = time.time()\n",
    "times.append(end - start)\n",
    "print('SHA1:')\n",
    "names.append('SHA-1')\n",
    "print(result.hexdigest())\n",
    "lengths.append(len(result.hexdigest()))\n",
    "\n",
    "#sha2\n",
    "start = time.time()\n",
    "result = hashlib.sha224(message)\n",
    "end = time.time()\n",
    "times.append(end - start)\n",
    "print('SHA 224:')\n",
    "names.append('SHA-224')\n",
    "print(result.hexdigest())\n",
    "lengths.append(len(result.hexdigest()))\n",
    "\n",
    "start = time.time()\n",
    "result = hashlib.sha256(message)\n",
    "end = time.time()\n",
    "times.append(end - start)\n",
    "print('SHA 256:')\n",
    "names.append('SHA-256')\n",
    "print(result.hexdigest())\n",
    "lengths.append(len(result.hexdigest()))\n",
    "\n",
    "start = time.time()\n",
    "result = hashlib.sha384(message)\n",
    "end = time.time()\n",
    "times.append(end - start)\n",
    "print('SHA 384:')\n",
    "names.append('SHA-384')\n",
    "print(result.hexdigest())\n",
    "lengths.append(len(result.hexdigest()))\n",
    "\n",
    "start = time.time()\n",
    "result = hashlib.sha512(message)\n",
    "end = time.time()\n",
    "times.append(end - start)\n",
    "print('SHA 512:')\n",
    "names.append('SHA-512')\n",
    "print(result.hexdigest())\n",
    "lengths.append(len(result.hexdigest()))\n",
    "\n",
    "#sha3\n",
    "start = time.time()\n",
    "result = hashlib.sha3_224(message)\n",
    "end = time.time()\n",
    "times.append(end - start)\n",
    "print('SHA3 224:')\n",
    "names.append('SHA3-224')\n",
    "print(result.hexdigest())\n",
    "lengths.append(len(result.hexdigest()))\n",
    "\n",
    "start = time.time()\n",
    "result = hashlib.sha3_256(message)\n",
    "end = time.time()\n",
    "times.append(end - start)\n",
    "print('SHA3 256:')\n",
    "names.append('SHA3-256')\n",
    "print(result.hexdigest())\n",
    "lengths.append(len(result.hexdigest()))\n",
    "\n",
    "start = time.time()\n",
    "result = hashlib.sha3_384(message)\n",
    "end = time.time()\n",
    "times.append(end - start)\n",
    "print('SHA3 384:')\n",
    "names.append('SHA3-384')\n",
    "print(result.hexdigest())\n",
    "lengths.append(len(result.hexdigest()))\n",
    "\n",
    "start = time.time()\n",
    "result = hashlib.sha3_512(message)\n",
    "end = time.time()\n",
    "times.append(end - start)\n",
    "print('SHA3 512:')\n",
    "names.append('SHA3-512')\n",
    "print(result.hexdigest())\n",
    "lengths.append(len(result.hexdigest()))"
   ]
  },
  {
   "cell_type": "code",
   "execution_count": 94,
   "id": "6d3a34b0",
   "metadata": {},
   "outputs": [
    {
     "data": {
      "image/png": "[encoded data removed]",
      "text/plain": [
       "<Figure size 432x288 with 1 Axes>"
      ]
     },
     "metadata": {
      "needs_background": "light"
     },
     "output_type": "display_data"
    }
   ],
   "source": [
    "fig, ax = plt.subplots()\n",
    "ax.barh(names, times)\n",
    "ax.set_xlabel('Time [s]')\n",
    "plt.show()"
   ]
  },
  {
   "cell_type": "code",
   "execution_count": 95,
   "id": "f132c36a",
   "metadata": {
    "scrolled": true
   },
   "outputs": [
    {
     "data": {
      "image/png": "[encoded data removed]",
      "text/plain": [
       "<Figure size 432x288 with 1 Axes>"
      ]
     },
     "metadata": {
      "needs_background": "light"
     },
     "output_type": "display_data"
    }
   ],
   "source": [
    "fig, ax = plt.subplots()\n",
    "ax.barh(names, lengths)\n",
    "ax.set_xlabel('Output length [bytes]')\n",
    "plt.show()"
   ]
  },
  {
   "cell_type": "code",
   "execution_count": 102,
   "id": "acd90a85",
   "metadata": {},
   "outputs": [],
   "source": [
    "s = b'he'\n",
    "from string import printable\n",
    "found = {}\n",
    "for j in range(5000):\n",
    "    #Build a random 4 byte random string\n",
    "    s = ''.join([choice(printable) for _ in range(4)])\n",
    "    s = str.encode(s)\n",
    "    print(s)\n",
    "    h = hashlib.md5(s)\n",
    "    if h in found:\n",
    "        v = found[h]\n",
    "        if v == s:\n",
    "            #Same hash, but from the same source string\n",
    "            continue\n",
    "        print(h, found[h], s)\n",
    "    found[h] = s"
   ]
  },
  {
   "cell_type": "markdown",
   "id": "5398f54d",
   "metadata": {},
   "source": [
    "MD5 nie jest bezpieczne "
   ]
  }
 ],
 "metadata": {
  "kernelspec": {
   "display_name": "Python 3 (ipykernel)",
   "language": "python",
   "name": "python3"
  },
  "language_info": {
   "codemirror_mode": {
    "name": "ipython",
    "version": 3
   },
   "file_extension": ".py",
   "mimetype": "text/x-python",
   "name": "python",
   "nbconvert_exporter": "python",
   "pygments_lexer": "ipython3",
   "version": "3.8.10"
  }
 },
 "nbformat": 4,
 "nbformat_minor": 5
}
